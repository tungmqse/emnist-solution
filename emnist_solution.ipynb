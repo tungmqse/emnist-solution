{
  "nbformat": 4,
  "nbformat_minor": 0,
  "metadata": {
    "colab": {
      "name": "emnist-solution.ipynb",
      "provenance": [],
      "authorship_tag": "ABX9TyNzXWGpv1s1+I8eKE3K8KDJ",
      "include_colab_link": true
    },
    "kernelspec": {
      "name": "python3",
      "display_name": "Python 3"
    },
    "accelerator": "GPU"
  },
  "cells": [
    {
      "cell_type": "markdown",
      "metadata": {
        "id": "view-in-github",
        "colab_type": "text"
      },
      "source": [
        "<a href=\"https://colab.research.google.com/github/tungmqse/emnist-solution/blob/master/emnist_solution.ipynb\" target=\"_parent\"><img src=\"https://colab.research.google.com/assets/colab-badge.svg\" alt=\"Open In Colab\"/></a>"
      ]
    },
    {
      "cell_type": "code",
      "metadata": {
        "id": "EelR06KSy_M_",
        "colab_type": "code",
        "outputId": "69e522a6-2b52-46ac-ae43-4996a30d561c",
        "colab": {
          "base_uri": "https://localhost:8080/",
          "height": 360
        }
      },
      "source": [
        "# Install keras + idx2numpy\n",
        "!pip install keras\n",
        "!pip install idx2numpy"
      ],
      "execution_count": 1,
      "outputs": [
        {
          "output_type": "stream",
          "text": [
            "Requirement already satisfied: keras in /usr/local/lib/python3.6/dist-packages (2.3.1)\n",
            "Requirement already satisfied: pyyaml in /usr/local/lib/python3.6/dist-packages (from keras) (3.13)\n",
            "Requirement already satisfied: six>=1.9.0 in /usr/local/lib/python3.6/dist-packages (from keras) (1.12.0)\n",
            "Requirement already satisfied: h5py in /usr/local/lib/python3.6/dist-packages (from keras) (2.10.0)\n",
            "Requirement already satisfied: numpy>=1.9.1 in /usr/local/lib/python3.6/dist-packages (from keras) (1.18.4)\n",
            "Requirement already satisfied: keras-preprocessing>=1.0.5 in /usr/local/lib/python3.6/dist-packages (from keras) (1.1.2)\n",
            "Requirement already satisfied: keras-applications>=1.0.6 in /usr/local/lib/python3.6/dist-packages (from keras) (1.0.8)\n",
            "Requirement already satisfied: scipy>=0.14 in /usr/local/lib/python3.6/dist-packages (from keras) (1.4.1)\n",
            "Collecting idx2numpy\n",
            "  Downloading https://files.pythonhosted.org/packages/23/6b/abab4652eb249f432c62431907c8de32bdcedb5abdf869ff86653efff981/idx2numpy-1.2.2.tar.gz\n",
            "Requirement already satisfied: numpy in /usr/local/lib/python3.6/dist-packages (from idx2numpy) (1.18.4)\n",
            "Requirement already satisfied: six in /usr/local/lib/python3.6/dist-packages (from idx2numpy) (1.12.0)\n",
            "Building wheels for collected packages: idx2numpy\n",
            "  Building wheel for idx2numpy (setup.py) ... \u001b[?25l\u001b[?25hdone\n",
            "  Created wheel for idx2numpy: filename=idx2numpy-1.2.2-cp36-none-any.whl size=8032 sha256=1e2e7722cde386a485351de98120274c217f825ff53a1251441b8894f501e92d\n",
            "  Stored in directory: /root/.cache/pip/wheels/7a/b5/69/3e0757b3086607e95db70661798fdf98a77a0bb79c54e1f320\n",
            "Successfully built idx2numpy\n",
            "Installing collected packages: idx2numpy\n",
            "Successfully installed idx2numpy-1.2.2\n"
          ],
          "name": "stdout"
        }
      ]
    },
    {
      "cell_type": "code",
      "metadata": {
        "id": "IegCezVK08BS",
        "colab_type": "code",
        "colab": {
          "base_uri": "https://localhost:8080/",
          "height": 34
        },
        "outputId": "59a86013-c056-4581-850f-33915859650e"
      },
      "source": [
        "# Import libraries\n",
        "import os\n",
        "import numpy as np\n",
        "import matplotlib.pyplot as plt\n",
        "import idx2numpy\n",
        "from keras.models import Sequential\n",
        "from keras.layers import Dense\n",
        "from keras.utils import to_categorical\n",
        "from keras.layers import Conv2D, MaxPooling2D, Dropout, Flatten, BatchNormalization\n",
        "from keras.optimizers import RMSprop\n",
        "from keras.preprocessing.image import ImageDataGenerator\n",
        "from keras.callbacks import ReduceLROnPlateau, ModelCheckpoint"
      ],
      "execution_count": 2,
      "outputs": [
        {
          "output_type": "stream",
          "text": [
            "Using TensorFlow backend.\n"
          ],
          "name": "stderr"
        }
      ]
    },
    {
      "cell_type": "code",
      "metadata": {
        "id": "cRXsSODI8Vka",
        "colab_type": "code",
        "colab": {}
      },
      "source": [
        "root_path = '/content'"
      ],
      "execution_count": 0,
      "outputs": []
    },
    {
      "cell_type": "code",
      "metadata": {
        "id": "cVOFTrs0zdoh",
        "colab_type": "code",
        "outputId": "18bb913f-69cf-47aa-e8e1-4c49d1140e61",
        "colab": {
          "base_uri": "https://localhost:8080/",
          "height": 122
        }
      },
      "source": [
        "# Use google drive to store data\n",
        "\n",
        "from google.colab import drive\n",
        "drive.mount('/content/gdrive')\n",
        "os.chdir('/content/gdrive/My Drive')\n",
        "project_name = 'EMNIST-Project'\n",
        "if not os.path.exists(project_name):\n",
        "  !mkdir EMNIST-Project\n",
        "root_path = '/content/gdrive/My Drive/{}'.format(project_name)\n",
        "os.chdir(root_path)"
      ],
      "execution_count": 4,
      "outputs": [
        {
          "output_type": "stream",
          "text": [
            "Go to this URL in a browser: https://accounts.google.com/o/oauth2/auth?client_id=947318989803-6bn6qk8qdgf4n4g3pfee6491hc0brc4i.apps.googleusercontent.com&redirect_uri=urn%3aietf%3awg%3aoauth%3a2.0%3aoob&response_type=code&scope=email%20https%3a%2f%2fwww.googleapis.com%2fauth%2fdocs.test%20https%3a%2f%2fwww.googleapis.com%2fauth%2fdrive%20https%3a%2f%2fwww.googleapis.com%2fauth%2fdrive.photos.readonly%20https%3a%2f%2fwww.googleapis.com%2fauth%2fpeopleapi.readonly\n",
            "\n",
            "Enter your authorization code:\n",
            "··········\n",
            "Mounted at /content/gdrive\n"
          ],
          "name": "stdout"
        }
      ]
    },
    {
      "cell_type": "code",
      "metadata": {
        "id": "XunYWSSQzvQa",
        "colab_type": "code",
        "colab": {}
      },
      "source": [
        "# Check if there's file, we do not download anymore\n",
        "if (not os.path.isfile(\"gzip.zip\")):\n",
        "  !wget http://www.itl.nist.gov/iaui/vip/cs_links/EMNIST/gzip.zip\n",
        "\n",
        "# Check there's gzip folder, we do not unzip anymore\n",
        "if (not os.path.isdir(\"gzip\")):\n",
        "  !unzip gzip.zip\n",
        "  !gunzip \"{root_path}/gzip/emnist-balanced-train-images-idx3-ubyte.gz\"\n",
        "  !gunzip \"{root_path}/gzip/emnist-balanced-train-labels-idx1-ubyte.gz\"\n",
        "  !gunzip \"{root_path}/gzip/emnist-balanced-test-images-idx3-ubyte.gz\"\n",
        "  !gunzip \"{root_path}/gzip/emnist-balanced-test-labels-idx1-ubyte.gz\""
      ],
      "execution_count": 0,
      "outputs": []
    },
    {
      "cell_type": "code",
      "metadata": {
        "id": "ixhgmdrY4zXu",
        "colab_type": "code",
        "colab": {}
      },
      "source": [
        "# Read data from ubyte & then convert them to numpy arrays\n",
        "train_image_file = '{}/gzip/emnist-balanced-train-images-idx3-ubyte'.format(root_path)\n",
        "train_label_file = '{}/gzip/emnist-balanced-train-labels-idx1-ubyte'.format(root_path)\n",
        "test_image_file = '{}/gzip/emnist-balanced-test-images-idx3-ubyte'.format(root_path)\n",
        "test_label_file = '{}/gzip/emnist-balanced-test-labels-idx1-ubyte'.format(root_path)\n",
        "\n",
        "train_images = idx2numpy.convert_from_file(train_image_file)\n",
        "train_labels = idx2numpy.convert_from_file(train_label_file)\n",
        "test_images = idx2numpy.convert_from_file(test_image_file)\n",
        "test_labels = idx2numpy.convert_from_file(test_label_file)"
      ],
      "execution_count": 0,
      "outputs": []
    },
    {
      "cell_type": "code",
      "metadata": {
        "id": "9etAlVo9z21Q",
        "colab_type": "code",
        "colab": {}
      },
      "source": [
        "# Normalize the image values to have range [0, 255]\n",
        "train_images = train_images / 255\n",
        "test_images = test_images / 255\n",
        "\n",
        "# Reshape the matrix of train & test images to (Number of rows, width, height, layers)\n",
        "train_images = train_images.reshape((-1, train_images.shape[1], train_images.shape[2], 1))\n",
        "test_images = test_images.reshape((-1, test_images.shape[1], test_images.shape[2], 1))"
      ],
      "execution_count": 0,
      "outputs": []
    },
    {
      "cell_type": "code",
      "metadata": {
        "id": "sTzTePG3GoyL",
        "colab_type": "code",
        "outputId": "1010a5c6-a7b7-4b3c-c3b5-7e31c40e97f2",
        "colab": {
          "base_uri": "https://localhost:8080/",
          "height": 85
        }
      },
      "source": [
        "print('train_images.shape', train_images.shape)\n",
        "print('train_labels.shape', train_labels.shape)\n",
        "print('test_images.shape', test_images.shape)\n",
        "print('test_labels.shape', test_labels.shape)"
      ],
      "execution_count": 8,
      "outputs": [
        {
          "output_type": "stream",
          "text": [
            "train_images.shape (112800, 28, 28, 1)\n",
            "train_labels.shape (112800,)\n",
            "test_images.shape (18800, 28, 28, 1)\n",
            "test_labels.shape (18800,)\n"
          ],
          "name": "stdout"
        }
      ]
    },
    {
      "cell_type": "code",
      "metadata": {
        "id": "t-5NDe709Al5",
        "colab_type": "code",
        "outputId": "dde4a9df-dbb8-4d2b-9235-7a52661769fa",
        "colab": {
          "base_uri": "https://localhost:8080/",
          "height": 479
        }
      },
      "source": [
        "# Model structure\n",
        "# Layer (type)                 Output Shape              Param #   \n",
        "# =================================================================\n",
        "# conv2d_1 (Conv2D)            (None, 28, 28, 32)        832       \n",
        "# _________________________________________________________________\n",
        "# conv2d_2 (Conv2D)            (None, 28, 28, 32)        25632     \n",
        "# _________________________________________________________________\n",
        "# max_pooling2d_1 (MaxPooling2 (None, 14, 14, 32)        0         \n",
        "# _________________________________________________________________\n",
        "# dropout_1 (Dropout)          (None, 14, 14, 32)        0         \n",
        "# _________________________________________________________________\n",
        "# conv2d_3 (Conv2D)            (None, 14, 14, 64)        18496     \n",
        "# _________________________________________________________________\n",
        "# conv2d_4 (Conv2D)            (None, 14, 14, 64)        36928     \n",
        "# _________________________________________________________________\n",
        "# max_pooling2d_2 (MaxPooling2 (None, 7, 7, 64)          0         \n",
        "# _________________________________________________________________\n",
        "# dropout_2 (Dropout)          (None, 7, 7, 64)          0         \n",
        "# _________________________________________________________________\n",
        "# conv2d_5 (Conv2D)            (None, 7, 7, 128)         73856     \n",
        "# _________________________________________________________________\n",
        "# conv2d_6 (Conv2D)            (None, 7, 7, 256)         295168    \n",
        "# _________________________________________________________________\n",
        "# flatten_1 (Flatten)          (None, 12544)             0         \n",
        "# _________________________________________________________________\n",
        "# dense_1 (Dense)              (None, 256)               3211520   \n",
        "# _________________________________________________________________\n",
        "# dropout_3 (Dropout)          (None, 256)               0         \n",
        "# _________________________________________________________________\n",
        "# dense_2 (Dense)              (None, 47)                12079     \n",
        "# =================================================================\n",
        "# Total params: 3,674,511\n",
        "# Trainable params: 3,674,511\n",
        "# Non-trainable params: 0\n",
        "# _________________________________________________________________\n",
        "\n",
        "# Build model\n",
        "num_classes = 47\n",
        "img_size = 28\n",
        "epochs = 200\n",
        "batch_size = 512\n",
        "model = Sequential()\n",
        "model.add(Conv2D(filters = 32, kernel_size = (5,5),padding = 'Same', \n",
        "                 activation ='relu', input_shape = (img_size,img_size,1)))\n",
        "model.add(Conv2D(filters = 32, kernel_size = (5,5),padding = 'Same', \n",
        "                 activation ='relu'))\n",
        "model.add(MaxPooling2D(pool_size=(2,2)))\n",
        "model.add(Dropout(0.25))\n",
        "\n",
        "\n",
        "model.add(Conv2D(filters = 64, kernel_size = (3,3),padding = 'Same', \n",
        "                 activation ='relu'))\n",
        "model.add(Conv2D(filters = 64, kernel_size = (3,3),padding = 'Same', \n",
        "                 activation ='relu'))\n",
        "model.add(MaxPooling2D(pool_size=(2,2), strides=(2,2)))\n",
        "model.add(Dropout(0.25))\n",
        "\n",
        "\n",
        "model.add(Conv2D(filters = 128, kernel_size = (3,3),padding = 'Same', \n",
        "                 activation ='relu'))\n",
        "model.add(Conv2D(filters = 256, kernel_size = (3,3),padding = 'Same', \n",
        "                 activation ='relu'))\n",
        "\n",
        "model.add(Flatten())\n",
        "model.add(Dense(256, activation = \"relu\"))\n",
        "model.add(Dropout(0.5))\n",
        "model.add(Dense(num_classes, activation = 'softmax'))\n",
        "\n",
        "# Use augmentation technique\n",
        "datagen = ImageDataGenerator(\n",
        "        zoom_range = 0.2, # Randomly zoom image \n",
        "        width_shift_range=0.2,  # randomly shift images horizontally (fraction of total width)\n",
        "        height_shift_range=0.2)  # randomly shift images vertically (fraction of total height)\n",
        "\n",
        "# Fit training data to generator\n",
        "datagen.fit(train_images)\n",
        "\n",
        "# Create check point callback to save weight every epoch\n",
        "# checkpoint_path = \"gdrive/My Drive/Checkpoints/emnist-cp.ckpt\"\n",
        "checkpoint_path = \"emnist-cp.ckpt\"\n",
        "cp_callback = ModelCheckpoint(filepath=checkpoint_path,\n",
        "                                                 save_weights_only=True,\n",
        "                                                 verbose=1)\n",
        "\n",
        "# Compile model, use adam optimizer, loss is calculated by categorical_crossentropy and check accuracy every epoch\n",
        "model.compile(optimizer='adam', loss='categorical_crossentropy', metrics=['accuracy'])\n",
        "\n",
        "# Load weights from last checkpoint if any\n",
        "if (os.path.isfile(checkpoint_path)):\n",
        "  model.load_weights(checkpoint_path)\n",
        "history = model.fit_generator(datagen.flow(train_images, to_categorical(train_labels), batch_size=batch_size), \n",
        "                              epochs=epochs, validation_data=(test_images, to_categorical(test_labels)), \n",
        "                              callbacks=[cp_callback])"
      ],
      "execution_count": 0,
      "outputs": [
        {
          "output_type": "stream",
          "text": [
            "Epoch 1/200\n",
            "221/221 [==============================] - 31s 138ms/step - loss: 0.2922 - accuracy: 0.8903 - val_loss: 0.2920 - val_accuracy: 0.8972\n",
            "\n",
            "Epoch 00001: saving model to emnist-cp.ckpt\n",
            "Epoch 2/200\n",
            "221/221 [==============================] - 23s 104ms/step - loss: 0.2926 - accuracy: 0.8904 - val_loss: 0.2896 - val_accuracy: 0.8979\n",
            "\n",
            "Epoch 00002: saving model to emnist-cp.ckpt\n",
            "Epoch 3/200\n",
            "221/221 [==============================] - 23s 103ms/step - loss: 0.2912 - accuracy: 0.8898 - val_loss: 0.2893 - val_accuracy: 0.8982\n",
            "\n",
            "Epoch 00003: saving model to emnist-cp.ckpt\n",
            "Epoch 4/200\n",
            "221/221 [==============================] - 22s 102ms/step - loss: 0.2894 - accuracy: 0.8910 - val_loss: 0.2873 - val_accuracy: 0.8989\n",
            "\n",
            "Epoch 00004: saving model to emnist-cp.ckpt\n",
            "Epoch 5/200\n",
            "221/221 [==============================] - 22s 101ms/step - loss: 0.2878 - accuracy: 0.8922 - val_loss: 0.2968 - val_accuracy: 0.8954\n",
            "\n",
            "Epoch 00005: saving model to emnist-cp.ckpt\n",
            "Epoch 6/200\n",
            "221/221 [==============================] - 22s 100ms/step - loss: 0.2847 - accuracy: 0.8927 - val_loss: 0.2953 - val_accuracy: 0.8996\n",
            "\n",
            "Epoch 00006: saving model to emnist-cp.ckpt\n",
            "Epoch 7/200\n",
            " 59/221 [=======>......................] - ETA: 16s - loss: 0.2813 - accuracy: 0.8951"
          ],
          "name": "stdout"
        }
      ]
    },
    {
      "cell_type": "code",
      "metadata": {
        "id": "fiso0_AyGYRU",
        "colab_type": "code",
        "colab": {}
      },
      "source": [
        "# Save model\n",
        "saved_model_file_name = 'model-final.h5'\n",
        "if (not os.path.isfile(saved_model_file_name)):\n",
        "  model.save_weights(saved_model_file_name)"
      ],
      "execution_count": 0,
      "outputs": []
    },
    {
      "cell_type": "code",
      "metadata": {
        "id": "cpQDZCgjGehD",
        "colab_type": "code",
        "colab": {}
      },
      "source": [
        "start_index = 0\n",
        "end_index = 500\n",
        "predictions = model.predict(test_images[start_index:end_index])\n",
        "# print(np.argmax(predictions, axis = 1))\n",
        "# print(test_labels[start_index:end_index])\n",
        "wrong_prediction_count = 0\n",
        "for i in range(start_index, end_index):\n",
        "  if test_labels[i] == np.argmax(predictions, axis = 1)[i-start_index]:\n",
        "    continue\n",
        "  first_image = test_images[i]\n",
        "  first_image = np.array(first_image, dtype='float')\n",
        "  pixels = first_image.reshape((28,28))\n",
        "  pixels = pixels\n",
        "  plt.imshow(pixels, cmap='gray')\n",
        "  plt.show()\n",
        "  wrong_prediction_count += 1\n",
        "  print('label: ' + str(test_labels[i]) + ' - predict: ' + str(np.argmax(predictions, axis = 1)[i-start_index]))\n",
        "print('Total wrong predictions: {}'.format(wrong_prediction_count))"
      ],
      "execution_count": 0,
      "outputs": []
    },
    {
      "cell_type": "code",
      "metadata": {
        "id": "9G2WrxfzpoOw",
        "colab_type": "code",
        "colab": {}
      },
      "source": [
        "# Validate on unbalanced dataset\n",
        "\n",
        "# !gunzip \"{root_path}/gzip/emnist-bymerge-test-images-idx3-ubyte.gz\"\n",
        "# !gunzip \"{root_path}/gzip/emnist-bymerge-test-labels-idx1-ubyte.gz\"\n",
        "# unbalanced_image_file = '{}/gzip/emnist-bymerge-test-images-idx3-ubyte'.format(root_path)\n",
        "# unbalanced_label_file = '{}/gzip/emnist-bymerge-test-labels-idx1-ubyte'.format(root_path)\n",
        "# unbalanced_images = idx2numpy.convert_from_file(unbalanced_image_file)\n",
        "# unbalanced_labels = idx2numpy.convert_from_file(unbalanced_label_file)\n",
        "\n",
        "# unbalanced_images = unbalanced_images / 255\n",
        "# unbalanced_images = unbalanced_images.reshape((-1, unbalanced_images.shape[1], unbalanced_images.shape[2], 1))\n",
        "# model.evaluate(unbalanced_images, to_categorical(unbalanced_labels))"
      ],
      "execution_count": 0,
      "outputs": []
    },
    {
      "cell_type": "code",
      "metadata": {
        "id": "CBollwXHyAQd",
        "colab_type": "code",
        "colab": {}
      },
      "source": [
        ""
      ],
      "execution_count": 0,
      "outputs": []
    }
  ]
}